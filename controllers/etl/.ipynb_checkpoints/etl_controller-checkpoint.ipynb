{
 "cells": [
  {
   "cell_type": "code",
   "execution_count": 1,
   "id": "de8b5a05-d16a-4824-bc4a-5eb446759f83",
   "metadata": {},
   "outputs": [],
   "source": [
    "import pandas as pd"
   ]
  },
  {
   "cell_type": "code",
   "execution_count": 6,
   "id": "204a84b0-5aa7-4feb-899f-126551d34764",
   "metadata": {
    "editable": true,
    "slideshow": {
     "slide_type": ""
    },
    "tags": []
   },
   "outputs": [],
   "source": [
    "class ETLController:\n",
    "    def __init__(self, connection):\n",
    "        \"\"\"\n",
    "        Inicializa o controlador de ETL com uma conexão de banco de dados.\n",
    "        :param connection: Conexão de banco de dados.\n",
    "        \"\"\"\n",
    "        self.connection = connection\n",
    "\n",
    "    def run_query(self, query):\n",
    "        \"\"\"\n",
    "        Executa uma query e retorna os dados como um DataFrame.\n",
    "        :param query: SQL query string.\n",
    "        :return: DataFrame com os dados.\n",
    "        \"\"\"\n",
    "        df = pd.read_sql(query, self.connection)\n",
    "        return df\n",
    "\n",
    "    def filter_by_totneg(self, df):\n",
    "        \"\"\"\n",
    "        Filtra o DataFrame eliminando linhas onde a soma de totneg por codneg seja menor que 10000.\n",
    "        :param df: DataFrame com os dados.\n",
    "        :return: DataFrame filtrado.\n",
    "        \"\"\"\n",
    "        # Agrupa por 'codneg' e calcula a soma de 'totneg'\n",
    "        totneg_sums = df.groupby('codneg')['totneg'].sum()\n",
    "\n",
    "        # Filtra para manter apenas os 'codneg' com soma de 'totneg' >= 10000\n",
    "        valid_codneg = totneg_sums[totneg_sums >= 10000].index\n",
    "\n",
    "        # Filtra o DataFrame\n",
    "        df_filtered = df[df['codneg'].isin(valid_codneg)]\n",
    "        \n",
    "        return df_filtered\n",
    "    \n",
    "\n",
    "    def process_etl(self, query):\n",
    "        \"\"\"\n",
    "        Processa o ETL completo: executa a query, filtra os dados e retorna o DataFrame final.\n",
    "        :param query: SQL query para execução.\n",
    "        :return: DataFrame final filtrado.\n",
    "        \"\"\"\n",
    "        # Executa a query e obtém os dados\n",
    "        df = self.run_query(query)\n",
    "\n",
    "        #aplicar etl 1 (qt total negocios > 1000)\n",
    "        # Mostra o total de linhas antes do ETL\n",
    "        total_antes = df.shape[0]        \n",
    "\n",
    "        # Aplica o filtro de totneg\n",
    "        df_filtered = self.filter_by_totneg(df)\n",
    "\n",
    "        # Mostra o total de linhas depois do ETL\n",
    "        total_depois = df_filtered.shape[0]\n",
    "        print(f\"Linhas antes etl 1: {total_antes}\")\n",
    "        print(f\"Linhas apos  etl 1: {total_depois}\")\n",
    "\n",
    "        #aplicar etl 2 (eliminar valores nan)\n",
    "        total_antes = total_depois\n",
    "        df_filtered = df_filtered.dropna(subset=['lifedays','vlextrinseco'])\n",
    "        total_depois = df_filtered.shape[0]\n",
    "        print(f\"Linhas antes etl 2: {total_antes}\")\n",
    "        print(f\"Linhas apos  etl 2: {total_depois}\")\n",
    "\n",
    "        #aplicar etl 3 (eliminar linhas que nao tenham mais que 100 negocios no dia)\n",
    "        total_antes = total_depois\n",
    "        df_filtered = df_filtered[df_filtered['totneg'] > 100]\n",
    "        total_depois = df_filtered.shape[0]\n",
    "        print(f\"Linhas antes etl 3: {total_antes}\")\n",
    "        print(f\"Linhas apos  etl 3: {total_depois}\")\n",
    "\n",
    "        #aplicar etl 4 (eliminar linhas que nao tenham mais que 10 ocorrencias)\n",
    "        total_antes = total_depois\n",
    "        df_filtered = df_filtered.groupby('codneg').filter(lambda x: len(x) > 10)\n",
    "        total_depois = df_filtered.shape[0]\n",
    "        print(f\"Linhas antes etl 4: {total_antes}\")\n",
    "        print(f\"Linhas apos  etl 4: {total_depois}\")\n",
    "\n",
    "\n",
    "        return df_filtered\n"
   ]
  },
  {
   "cell_type": "code",
   "execution_count": null,
   "id": "8840c56a-cf39-4fb1-b5d7-80950e58b967",
   "metadata": {},
   "outputs": [],
   "source": []
  }
 ],
 "metadata": {
  "kernelspec": {
   "display_name": "Python 3 (ipykernel)",
   "language": "python",
   "name": "python3"
  },
  "language_info": {
   "codemirror_mode": {
    "name": "ipython",
    "version": 3
   },
   "file_extension": ".py",
   "mimetype": "text/x-python",
   "name": "python",
   "nbconvert_exporter": "python",
   "pygments_lexer": "ipython3",
   "version": "3.12.4"
  }
 },
 "nbformat": 4,
 "nbformat_minor": 5
}
