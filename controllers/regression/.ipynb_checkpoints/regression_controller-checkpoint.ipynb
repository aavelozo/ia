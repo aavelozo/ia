{
 "cells": [
  {
   "cell_type": "code",
   "execution_count": 1,
   "id": "28d2a949-f6f8-4f3d-abf5-19fd43442998",
   "metadata": {},
   "outputs": [],
   "source": [
    "import pandas as pd\n",
    "import matplotlib.pyplot as plt\n",
    "from sklearn.linear_model import LinearRegression\n",
    "from sklearn.model_selection import train_test_split"
   ]
  },
  {
   "cell_type": "code",
   "execution_count": 2,
   "id": "d6fbb33e-3e33-4812-9398-06e0ab97357f",
   "metadata": {
    "editable": true,
    "slideshow": {
     "slide_type": ""
    },
    "tags": []
   },
   "outputs": [],
   "source": [
    "class RegressionController:\n",
    "    def __init__(self):\n",
    "        \"\"\"\n",
    "        Inicializa o controlador\n",
    "        \"\"\"\n",
    "        pass\n",
    "\n",
    "    def simpleLinearRegressionCalc(self,data,dependentColumn,independentColumn):\n",
    "        #colunas = [desc[0] for desc in cursor.description]\n",
    "        #data = pd.DataFrame(data, columns=colunas)\n",
    "\n",
    "        # Definindo variáveis independentes (X) e dependentes (y)\n",
    "        X = data[[independentColumn]]\n",
    "        y = data[dependentColumn]\n",
    "\n",
    "        # Dividindo os dados em conjunto de treinamento e teste        \n",
    "        X_train, X_test, y_train, y_test = train_test_split(X, y, test_size=0.7, random_state=0)\n",
    "\n",
    "        # Criando e ajustando o modelo de regressão linear\n",
    "        model = LinearRegression()\n",
    "        model.fit(X_train, y_train)\n",
    "\n",
    "        # Fazendo previsões\n",
    "        y_pred = model.predict(X_test)\n",
    "\n",
    "        # Coeficientes da regressão\n",
    "        slope = model.coef_[0]\n",
    "        intercept = model.intercept_\n",
    "\n",
    "        # Exibindo a equação da linha de regressão\n",
    "        return {\n",
    "            \"expression\":f\"y = {slope:.2f}x + {intercept:.2f}\",\n",
    "            \"X_train\":X_train,\n",
    "            \"X_test\":X_test,\n",
    "            \"y_train\":y_train,\n",
    "            \"y_test\":y_test,\n",
    "            \"y_pred\":y_pred\n",
    "        }    \n",
    "\n",
    "\n",
    "    def plotSimpleLinearRegression(self,group,regression, title, xlabel, ylabel):\n",
    "        # Criando uma nova figura e eixos para o gráfico\n",
    "        plt.figure(figsize=(10, 6))\n",
    "\n",
    "        # Plotando os pontos de dados reais\n",
    "        plt.scatter(regression[\"X_test\"], regression[\"y_test\"], color='blue', label='Dados Reais')\n",
    "\n",
    "        # Plotando a linha de regressão\n",
    "        plt.plot(regression[\"X_test\"], regression[\"y_pred\"], color='red', linewidth=2, label='Linha de Regressão')\n",
    "\n",
    "        # Adicionando rótulos e título\n",
    "        plt.xlabel(xlabel)\n",
    "        plt.ylabel(ylabel)\n",
    "        plt.title(title)\n",
    "        \n",
    "        # Adicionando legenda\n",
    "        plt.legend()\n",
    "\n",
    "        # Mostrando o gráfico\n",
    "        plt.grid(True)\n",
    "        plt.show()"
   ]
  }
 ],
 "metadata": {
  "kernelspec": {
   "display_name": "Python 3 (ipykernel)",
   "language": "python",
   "name": "python3"
  },
  "language_info": {
   "codemirror_mode": {
    "name": "ipython",
    "version": 3
   },
   "file_extension": ".py",
   "mimetype": "text/x-python",
   "name": "python",
   "nbconvert_exporter": "python",
   "pygments_lexer": "ipython3",
   "version": "3.12.4"
  }
 },
 "nbformat": 4,
 "nbformat_minor": 5
}
