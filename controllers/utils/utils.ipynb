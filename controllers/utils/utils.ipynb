{
 "cells": [
  {
   "cell_type": "code",
   "execution_count": 1,
   "id": "2e247fb4-d4b8-4a92-a4dd-1dfb90050db5",
   "metadata": {},
   "outputs": [],
   "source": [
    "import pandas as pd\n",
    "import ipywidgets as widgets\n",
    "from IPython.display import display, HTML\n"
   ]
  },
  {
   "cell_type": "code",
   "execution_count": 2,
   "id": "2e3b8f58-81c7-419a-bc03-0f0fc0dc9660",
   "metadata": {},
   "outputs": [],
   "source": [
    "def show_title(text):\n",
    "    display(HTML(f\"<h1 style='font-family:Courier New;text-align: center; color: lawngreen;font-weight:bolder;'>{text}<h1>\"))"
   ]
  },
  {
   "cell_type": "code",
   "execution_count": 3,
   "id": "cd7b2992-e4b5-4014-9469-af6fd70681fb",
   "metadata": {},
   "outputs": [],
   "source": [
    "def show_highlighted_text(text):\n",
    "    display(HTML(f\"<text style='font-family:Courier New;font-size:18px;color: lawngreen; font-weight:bolder;'>{text}<text>\"))"
   ]
  },
  {
   "cell_type": "code",
   "execution_count": 4,
   "id": "18767423-f61b-4ae2-8327-5be2bb52b721",
   "metadata": {},
   "outputs": [],
   "source": [
    "def mount_qty_html_tr(entity=None, qty=None, perc_of_total=None, total=None):\n",
    "    content = f\"<td>{entity if entity is not None else ''}</td>\"\n",
    "    content += f\"<td>{qty if qty is not None else 0:n}</td>\"\n",
    "    content += f\"<td>{perc_of_total if perc_of_total is not None else 0:.2f}%</td>\"\n",
    "    content += f\"<td>{total if total is not None else 0:n}</td>\"\n",
    "    return f\"<tr>{content}</tr>\""
   ]
  },
  {
   "cell_type": "code",
   "execution_count": 5,
   "id": "4d84c540-c424-4781-aabb-56e684bafc87",
   "metadata": {},
   "outputs": [],
   "source": [
    "def show_distribution(qty_derivatives, total_derivatives, qty_lines, total_lines ):\n",
    "    content = f\"<table style='font-family:Courier New;font-size:18px;color: lawngreen; font-weight:bolder;'><thead><tr><th></th><th>Qtde Atual</th><th>% / Total</th><th>Total</th></tr></thead><tbody>\"\n",
    "    content += mount_qty_html_tr(\"Derivativos\",qty_derivatives,qty_derivatives/total_derivatives*100,total_derivatives)\n",
    "    content += mount_qty_html_tr(\"Linhas\",qty_lines,qty_lines/total_lines*100,total_lines)\n",
    "    content += \"</tbody></table>\"\n",
    "    display(HTML(content))"
   ]
  },
  {
   "cell_type": "code",
   "execution_count": 6,
   "id": "486f78f7-0b5b-48b2-a909-b0f87f2dee8c",
   "metadata": {},
   "outputs": [],
   "source": [
    "def mostrar_dataframe_interativo(df, linhas_iniciais=10, incremento=5):\n",
    "    \"\"\"\n",
    "    Exibe um DataFrame de forma interativa, permitindo ao usuário ajustar a quantidade de linhas mostradas por vez.\n",
    "\n",
    "    Parâmetros:\n",
    "    df (pd.DataFrame): O DataFrame a ser exibido.\n",
    "    linhas_iniciais (int): Número inicial de linhas a serem mostradas.\n",
    "    incremento (int): O número de linhas por vez a serem exibidas ao ajustar o slider.\n",
    "    \"\"\"\n",
    "    \n",
    "    max_linhas = len(df)\n",
    "    \n",
    "    # Função interna para exibir as linhas do DataFrame com base no slider\n",
    "    def atualizar_exibicao(linhas_exibidas, linhas_por_vez):\n",
    "        inicio = max(0, linhas_exibidas - linhas_por_vez)\n",
    "        fim = linhas_exibidas\n",
    "        display(df.iloc[inicio:fim])\n",
    "    \n",
    "    # Slider para ajustar a quantidade de linhas mostradas por vez\n",
    "    slider = widgets.IntSlider(\n",
    "        value=linhas_iniciais, \n",
    "        min=linhas_iniciais, \n",
    "        max=max_linhas, \n",
    "        step=incremento, \n",
    "        description='Linhas até:'\n",
    "    )\n",
    "    \n",
    "    # Slider para o número de linhas a serem mostradas por vez\n",
    "    linhas_por_vez_slider = widgets.IntSlider(\n",
    "        value=linhas_iniciais,\n",
    "        min=incremento,\n",
    "        max=max_linhas,\n",
    "        step=incremento,\n",
    "        description='Linhas por vez:'\n",
    "    )\n",
    "    \n",
    "    # Faz o controle interativo ligando os sliders com a função de exibição\n",
    "    interativo = widgets.interactive_output(\n",
    "        atualizar_exibicao, \n",
    "        {'linhas_exibidas': slider, 'linhas_por_vez': linhas_por_vez_slider}\n",
    "    )\n",
    "    \n",
    "    # Exibe os sliders e o DataFrame interativo\n",
    "    display(slider, linhas_por_vez_slider, interativo)"
   ]
  }
 ],
 "metadata": {
  "kernelspec": {
   "display_name": "Python 3 (ipykernel)",
   "language": "python",
   "name": "python3"
  },
  "language_info": {
   "codemirror_mode": {
    "name": "ipython",
    "version": 3
   },
   "file_extension": ".py",
   "mimetype": "text/x-python",
   "name": "python",
   "nbconvert_exporter": "python",
   "pygments_lexer": "ipython3",
   "version": "3.12.4"
  }
 },
 "nbformat": 4,
 "nbformat_minor": 5
}
