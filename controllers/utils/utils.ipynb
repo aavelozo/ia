{
 "cells": [
  {
   "cell_type": "code",
   "execution_count": 1,
   "id": "2e247fb4-d4b8-4a92-a4dd-1dfb90050db5",
   "metadata": {},
   "outputs": [
    {
     "data": {
      "text/plain": [
       "\"# Exemplo de uso:\\ndf_exemplo = pd.DataFrame({\\n    'col1': range(1, 101),\\n    'col2': range(101, 201)\\n})\\n\\n# Chamar a função com uma linha de código\\nmostrar_dataframe_interativo(df_exemplo)\\n\""
      ]
     },
     "execution_count": 1,
     "metadata": {},
     "output_type": "execute_result"
    }
   ],
   "source": [
    "import pandas as pd\n",
    "import ipywidgets as widgets\n",
    "from IPython.display import display\n",
    "\n",
    "def mostrar_dataframe_interativo(df, linhas_iniciais=10, incremento=5):\n",
    "    \"\"\"\n",
    "    Exibe um DataFrame de forma interativa, permitindo ao usuário ajustar a quantidade de linhas mostradas por vez.\n",
    "\n",
    "    Parâmetros:\n",
    "    df (pd.DataFrame): O DataFrame a ser exibido.\n",
    "    linhas_iniciais (int): Número inicial de linhas a serem mostradas.\n",
    "    incremento (int): O número de linhas por vez a serem exibidas ao ajustar o slider.\n",
    "    \"\"\"\n",
    "    \n",
    "    max_linhas = len(df)\n",
    "    \n",
    "    # Função interna para exibir as linhas do DataFrame com base no slider\n",
    "    def atualizar_exibicao(linhas_exibidas, linhas_por_vez):\n",
    "        inicio = max(0, linhas_exibidas - linhas_por_vez)\n",
    "        fim = linhas_exibidas\n",
    "        display(df.iloc[inicio:fim])\n",
    "    \n",
    "    # Slider para ajustar a quantidade de linhas mostradas por vez\n",
    "    slider = widgets.IntSlider(\n",
    "        value=linhas_iniciais, \n",
    "        min=linhas_iniciais, \n",
    "        max=max_linhas, \n",
    "        step=incremento, \n",
    "        description='Linhas até:'\n",
    "    )\n",
    "    \n",
    "    # Slider para o número de linhas a serem mostradas por vez\n",
    "    linhas_por_vez_slider = widgets.IntSlider(\n",
    "        value=linhas_iniciais,\n",
    "        min=incremento,\n",
    "        max=max_linhas,\n",
    "        step=incremento,\n",
    "        description='Linhas por vez:'\n",
    "    )\n",
    "    \n",
    "    # Faz o controle interativo ligando os sliders com a função de exibição\n",
    "    interativo = widgets.interactive_output(\n",
    "        atualizar_exibicao, \n",
    "        {'linhas_exibidas': slider, 'linhas_por_vez': linhas_por_vez_slider}\n",
    "    )\n",
    "    \n",
    "    # Exibe os sliders e o DataFrame interativo\n",
    "    display(slider, linhas_por_vez_slider, interativo)\n",
    "\n",
    "\"\"\"# Exemplo de uso:\n",
    "df_exemplo = pd.DataFrame({\n",
    "    'col1': range(1, 101),\n",
    "    'col2': range(101, 201)\n",
    "})\n",
    "\n",
    "# Chamar a função com uma linha de código\n",
    "mostrar_dataframe_interativo(df_exemplo)\n",
    "\"\"\""
   ]
  }
 ],
 "metadata": {
  "kernelspec": {
   "display_name": "Python 3 (ipykernel)",
   "language": "python",
   "name": "python3"
  },
  "language_info": {
   "codemirror_mode": {
    "name": "ipython",
    "version": 3
   },
   "file_extension": ".py",
   "mimetype": "text/x-python",
   "name": "python",
   "nbconvert_exporter": "python",
   "pygments_lexer": "ipython3",
   "version": "3.12.4"
  }
 },
 "nbformat": 4,
 "nbformat_minor": 5
}
