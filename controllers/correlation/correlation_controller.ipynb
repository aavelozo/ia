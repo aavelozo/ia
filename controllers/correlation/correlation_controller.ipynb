{
 "cells": [
  {
   "cell_type": "code",
   "execution_count": 1,
   "id": "69d0fccf-b642-494e-874e-490dab6c0c88",
   "metadata": {},
   "outputs": [],
   "source": [
    "import pandas as pd"
   ]
  },
  {
   "cell_type": "code",
   "execution_count": 2,
   "id": "0ef0bcb9-5e02-46f7-8307-77e26d903c21",
   "metadata": {},
   "outputs": [],
   "source": [
    "class CorrelationController:\n",
    "    def __init__(self):\n",
    "        \"\"\"\n",
    "        Inicializa o controlador\n",
    "        \"\"\"\n",
    "        pass\n",
    "\n",
    "    def calc_group_correlation(self, group, dependentColumn, independentColumn):\n",
    "        return group[independentColumn].corr(group[dependentColumn])\n"
   ]
  }
 ],
 "metadata": {
  "kernelspec": {
   "display_name": "Python 3 (ipykernel)",
   "language": "python",
   "name": "python3"
  },
  "language_info": {
   "codemirror_mode": {
    "name": "ipython",
    "version": 3
   },
   "file_extension": ".py",
   "mimetype": "text/x-python",
   "name": "python",
   "nbconvert_exporter": "python",
   "pygments_lexer": "ipython3",
   "version": "3.12.4"
  }
 },
 "nbformat": 4,
 "nbformat_minor": 5
}
