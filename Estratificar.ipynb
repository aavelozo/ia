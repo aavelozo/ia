{
  "nbformat": 4,
  "nbformat_minor": 0,
  "metadata": {
    "colab": {
      "provenance": []
    },
    "kernelspec": {
      "name": "python3",
      "display_name": "Python 3"
    },
    "language_info": {
      "name": "python"
    }
  },
  "cells": [
    {
      "cell_type": "code",
      "execution_count": 4,
      "metadata": {
        "colab": {
          "base_uri": "https://localhost:8080/"
        },
        "id": "PJQx7V0Rusze",
        "outputId": "92b4ef01-0714-4512-f81a-7cf2adf784b1"
      },
      "outputs": [
        {
          "output_type": "stream",
          "name": "stdout",
          "text": [
            "Arquivos 'sampled_data_25.csv' e 'sampled_data_75.csv' salvos com sucesso!\n"
          ]
        }
      ],
      "source": [
        "import pandas as pd\n",
        "\n",
        "# Carregar o dataset limpo (sem a coluna pidnum)\n",
        "data_cleaned = pd.read_csv('data_cleaned.csv')  # Altere para o caminho do seu arquivo\n",
        "\n",
        "# Separando os registros de acordo com o CID\n",
        "cid_1 = data_cleaned[data_cleaned['cid'] == 1]  # Registros com CID = 1\n",
        "cid_0 = data_cleaned[data_cleaned['cid'] == 0]  # Registros com CID = 0\n",
        "\n",
        "# Definindo o tamanho da amostra de 25% e 75%\n",
        "total_size = len(data_cleaned)\n",
        "sample_25_size = int(total_size * 0.25)\n",
        "\n",
        "# Calculando quantos registros precisamos de cada classe para manter a proporção de 24/76 em 25%\n",
        "cid_1_sample_25 = int(sample_25_size * 0.24)  # 24% de 25%\n",
        "cid_0_sample_25 = sample_25_size - cid_1_sample_25  # 76% de 25%\n",
        "\n",
        "# Amostrando aleatoriamente os registros para 25% dos dados\n",
        "cid_1_sampled_25 = cid_1.sample(n=cid_1_sample_25, random_state=42)\n",
        "cid_0_sampled_25 = cid_0.sample(n=cid_0_sample_25, random_state=42)\n",
        "sampled_data_25 = pd.concat([cid_1_sampled_25, cid_0_sampled_25])\n",
        "\n",
        "# Removendo os registros que já foram selecionados para os 25%\n",
        "cid_1_remaining = cid_1.drop(cid_1_sampled_25.index)\n",
        "cid_0_remaining = cid_0.drop(cid_0_sampled_25.index)\n",
        "\n",
        "# Combinando os dados restantes para formar os 75%\n",
        "sampled_data_75 = pd.concat([cid_1_remaining, cid_0_remaining])\n",
        "\n",
        "# Salvando as planilhas\n",
        "sampled_data_25.to_csv('sampled_data_25.csv', index=False)\n",
        "sampled_data_75.to_csv('sampled_data_75.csv', index=False)\n",
        "\n",
        "print(\"Arquivos 'sampled_data_25.csv' e 'sampled_data_75.csv' salvos com sucesso!\")\n"
      ]
    }
  ]
}