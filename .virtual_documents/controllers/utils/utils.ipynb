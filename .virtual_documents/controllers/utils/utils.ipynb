import pandas as pd
import ipywidgets as widgets
from IPython.display import display, HTML



def show_title(text):
    display(HTML(f"<h1 style='font-family:Courier New;text-align: center; color: lawngreen;font-weight:bolder;'>{text}<h1>"))


def show_highlighted_text(text):
    display(HTML(f"<text style='font-family:Courier New;font-size:18px;color: lawngreen; font-weight:bolder;'>{text}<text>"))


def mount_qty_html_tr(entity=None, qty=None, perc_of_total=None, total=None):
    content = f"<td>{entity if entity is not None else ''}</td>"
    content += f"<td>{qty if qty is not None else 0:n}</td>"
    content += f"<td>{perc_of_total if perc_of_total is not None else 0:.2f}%</td>"
    content += f"<td>{total if total is not None else 0:n}</td>"
    return f"<tr>{content}</tr>"


def show_distribution(qty_derivatives, total_derivatives, qty_lines, total_lines ):
    content = f"<table style='font-family:Courier New;font-size:18px;color: lawngreen; font-weight:bolder;'><thead><tr><th></th><th>Qtde Atual</th><th>% / Total</th><th>Total</th></tr></thead><tbody>"
    content += mount_qty_html_tr("Derivativos",qty_derivatives,qty_derivatives/total_derivatives*100,total_derivatives)
    content += mount_qty_html_tr("Linhas",qty_lines,qty_lines/total_lines*100,total_lines)
    content += "</tbody></table>"
    display(HTML(content))


def mostrar_dataframe_interativo(df, linhas_iniciais=10, incremento=5):
    """
    Exibe um DataFrame de forma interativa, permitindo ao usuário ajustar a quantidade de linhas mostradas por vez.

    Parâmetros:
    df (pd.DataFrame): O DataFrame a ser exibido.
    linhas_iniciais (int): Número inicial de linhas a serem mostradas.
    incremento (int): O número de linhas por vez a serem exibidas ao ajustar o slider.
    """
    
    max_linhas = len(df)
    
    # Função interna para exibir as linhas do DataFrame com base no slider
    def atualizar_exibicao(linhas_exibidas, linhas_por_vez):
        inicio = max(0, linhas_exibidas - linhas_por_vez)
        fim = linhas_exibidas
        display(df.iloc[inicio:fim])
    
    # Slider para ajustar a quantidade de linhas mostradas por vez
    slider = widgets.IntSlider(
        value=linhas_iniciais, 
        min=linhas_iniciais, 
        max=max_linhas, 
        step=incremento, 
        description='Linhas até:'
    )
    
    # Slider para o número de linhas a serem mostradas por vez
    linhas_por_vez_slider = widgets.IntSlider(
        value=linhas_iniciais,
        min=incremento,
        max=max_linhas,
        step=incremento,
        description='Linhas por vez:'
    )
    
    # Faz o controle interativo ligando os sliders com a função de exibição
    interativo = widgets.interactive_output(
        atualizar_exibicao, 
        {'linhas_exibidas': slider, 'linhas_por_vez': linhas_por_vez_slider}
    )
    
    # Exibe os sliders e o DataFrame interativo
    display(slider, linhas_por_vez_slider, interativo)
